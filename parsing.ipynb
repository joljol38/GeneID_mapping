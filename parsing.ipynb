{
 "cells": [
  {
   "cell_type": "code",
   "execution_count": 2,
   "metadata": {},
   "outputs": [],
   "source": [
    "import pandas as pd"
   ]
  },
  {
   "cell_type": "code",
   "execution_count": 9,
   "metadata": {},
   "outputs": [],
   "source": [
    "df = pd.read_csv('ensemble.tsv', sep = '\\t')\n",
    "he = df[df['#tax_id'] == 9606]\n",
    "h1 = he.drop('#tax_id', axis = 1)\n",
    "h1.to_csv('human_ensembl.tsv', index = False, sep = '\\t')"
   ]
  },
  {
   "cell_type": "code",
   "execution_count": 7,
   "metadata": {},
   "outputs": [
    {
     "data": {
      "text/html": [
       "<div>\n",
       "<style scoped>\n",
       "    .dataframe tbody tr th:only-of-type {\n",
       "        vertical-align: middle;\n",
       "    }\n",
       "\n",
       "    .dataframe tbody tr th {\n",
       "        vertical-align: top;\n",
       "    }\n",
       "\n",
       "    .dataframe thead th {\n",
       "        text-align: right;\n",
       "    }\n",
       "</style>\n",
       "<table border=\"1\" class=\"dataframe\">\n",
       "  <thead>\n",
       "    <tr style=\"text-align: right;\">\n",
       "      <th></th>\n",
       "      <th>#tax_id</th>\n",
       "      <th>GeneID</th>\n",
       "      <th>Ensembl_gene_identifier</th>\n",
       "    </tr>\n",
       "  </thead>\n",
       "  <tbody>\n",
       "    <tr>\n",
       "      <th>2603575</th>\n",
       "      <td>9606</td>\n",
       "      <td>1</td>\n",
       "      <td>ENSG00000121410</td>\n",
       "    </tr>\n",
       "    <tr>\n",
       "      <th>2603576</th>\n",
       "      <td>9606</td>\n",
       "      <td>2</td>\n",
       "      <td>ENSG00000175899</td>\n",
       "    </tr>\n",
       "    <tr>\n",
       "      <th>2603577</th>\n",
       "      <td>9606</td>\n",
       "      <td>3</td>\n",
       "      <td>ENSG00000291190</td>\n",
       "    </tr>\n",
       "    <tr>\n",
       "      <th>2603578</th>\n",
       "      <td>9606</td>\n",
       "      <td>9</td>\n",
       "      <td>ENSG00000171428</td>\n",
       "    </tr>\n",
       "    <tr>\n",
       "      <th>2603579</th>\n",
       "      <td>9606</td>\n",
       "      <td>9</td>\n",
       "      <td>ENSG00000171428</td>\n",
       "    </tr>\n",
       "    <tr>\n",
       "      <th>...</th>\n",
       "      <td>...</td>\n",
       "      <td>...</td>\n",
       "      <td>...</td>\n",
       "    </tr>\n",
       "    <tr>\n",
       "      <th>2671139</th>\n",
       "      <td>9606</td>\n",
       "      <td>124909446</td>\n",
       "      <td>ENSG00000243273</td>\n",
       "    </tr>\n",
       "    <tr>\n",
       "      <th>2671140</th>\n",
       "      <td>9606</td>\n",
       "      <td>124909451</td>\n",
       "      <td>ENSG00000288787</td>\n",
       "    </tr>\n",
       "    <tr>\n",
       "      <th>2671141</th>\n",
       "      <td>9606</td>\n",
       "      <td>124909475</td>\n",
       "      <td>ENSG00000287005</td>\n",
       "    </tr>\n",
       "    <tr>\n",
       "      <th>2671142</th>\n",
       "      <td>9606</td>\n",
       "      <td>124909495</td>\n",
       "      <td>ENSG00000289451</td>\n",
       "    </tr>\n",
       "    <tr>\n",
       "      <th>2671143</th>\n",
       "      <td>9606</td>\n",
       "      <td>127814295</td>\n",
       "      <td>ENSG00000232995</td>\n",
       "    </tr>\n",
       "  </tbody>\n",
       "</table>\n",
       "<p>67569 rows × 3 columns</p>\n",
       "</div>"
      ],
      "text/plain": [
       "         #tax_id     GeneID Ensembl_gene_identifier\n",
       "2603575     9606          1         ENSG00000121410\n",
       "2603576     9606          2         ENSG00000175899\n",
       "2603577     9606          3         ENSG00000291190\n",
       "2603578     9606          9         ENSG00000171428\n",
       "2603579     9606          9         ENSG00000171428\n",
       "...          ...        ...                     ...\n",
       "2671139     9606  124909446         ENSG00000243273\n",
       "2671140     9606  124909451         ENSG00000288787\n",
       "2671141     9606  124909475         ENSG00000287005\n",
       "2671142     9606  124909495         ENSG00000289451\n",
       "2671143     9606  127814295         ENSG00000232995\n",
       "\n",
       "[67569 rows x 3 columns]"
      ]
     },
     "execution_count": 7,
     "metadata": {},
     "output_type": "execute_result"
    }
   ],
   "source": [
    "he"
   ]
  },
  {
   "cell_type": "code",
   "execution_count": 115,
   "metadata": {},
   "outputs": [],
   "source": [
    "df = pd.read_csv('temp.tsv', sep = '\\t')\n",
    "ch1 = df[df['chromosome'] == '1']\n",
    "ch1 = ch1.drop(['#tax_id','LocusTag', 'Symbol_from_nomenclature_authority', 'Full_name_from_nomenclature_authority', 'Nomenclature_status', 'Other_designations', 'Modification_date', 'Feature_type'], axis = 1)\n",
    "ch1.to_csv('ch1.tsv', index = False, sep = '\\t')"
   ]
  },
  {
   "cell_type": "code",
   "execution_count": 92,
   "metadata": {},
   "outputs": [],
   "source": [
    "df = pd.read_csv('temp.tsv', sep = '\\t')\n",
    "ch2 = df[df['chromosome'] == '2']\n",
    "ch2 = ch2.drop(['#tax_id','LocusTag', 'Symbol_from_nomenclature_authority', 'Full_name_from_nomenclature_authority', 'Nomenclature_status', 'Other_designations', 'Modification_date', 'Feature_type'], axis = 1)\n",
    "ch2.to_csv('ch2.tsv', index = False, sep = '\\t')"
   ]
  },
  {
   "cell_type": "code",
   "execution_count": 93,
   "metadata": {},
   "outputs": [],
   "source": [
    "df = pd.read_csv('temp.tsv', sep = '\\t')\n",
    "ch3 = df[df['chromosome'] == '3']\n",
    "ch3 = ch3.drop(['#tax_id','LocusTag', 'Symbol_from_nomenclature_authority', 'Full_name_from_nomenclature_authority', 'Nomenclature_status', 'Other_designations', 'Modification_date', 'Feature_type'], axis = 1)\n",
    "ch3.to_csv('ch3.tsv', index = False, sep = '\\t')"
   ]
  },
  {
   "cell_type": "code",
   "execution_count": 94,
   "metadata": {},
   "outputs": [],
   "source": [
    "df = pd.read_csv('temp.tsv', sep = '\\t')\n",
    "ch4 = df[df['chromosome'] == '4']\n",
    "ch4 = ch4.drop(['#tax_id','LocusTag', 'Symbol_from_nomenclature_authority', 'Full_name_from_nomenclature_authority', 'Nomenclature_status', 'Other_designations', 'Modification_date', 'Feature_type'], axis = 1)\n",
    "ch4.to_csv('ch4.tsv', index = False, sep = '\\t')"
   ]
  },
  {
   "cell_type": "code",
   "execution_count": 95,
   "metadata": {},
   "outputs": [],
   "source": [
    "df = pd.read_csv('temp.tsv', sep = '\\t')\n",
    "ch5 = df[df['chromosome'] == '5']\n",
    "ch5 = ch5.drop(['#tax_id','LocusTag', 'Symbol_from_nomenclature_authority', 'Full_name_from_nomenclature_authority', 'Nomenclature_status', 'Other_designations', 'Modification_date', 'Feature_type'], axis = 1)\n",
    "ch5.to_csv('ch5.tsv', index = False, sep = '\\t')"
   ]
  },
  {
   "cell_type": "code",
   "execution_count": 96,
   "metadata": {},
   "outputs": [],
   "source": [
    "df = pd.read_csv('temp.tsv', sep = '\\t')\n",
    "ch6 = df[df['chromosome'] == '6']\n",
    "ch6 = ch6.drop(['#tax_id','LocusTag', 'Symbol_from_nomenclature_authority', 'Full_name_from_nomenclature_authority', 'Nomenclature_status', 'Other_designations', 'Modification_date', 'Feature_type'], axis = 1)\n",
    "ch6.to_csv('ch6.tsv', index = False, sep = '\\t')"
   ]
  },
  {
   "cell_type": "code",
   "execution_count": 97,
   "metadata": {},
   "outputs": [],
   "source": [
    "df = pd.read_csv('temp.tsv', sep = '\\t')\n",
    "ch7 = df[df['chromosome'] == '7']\n",
    "ch7 = ch7.drop(['#tax_id','LocusTag', 'Symbol_from_nomenclature_authority', 'Full_name_from_nomenclature_authority', 'Nomenclature_status', 'Other_designations', 'Modification_date', 'Feature_type'], axis = 1)\n",
    "ch7.to_csv('ch7.tsv', index = False, sep = '\\t')"
   ]
  },
  {
   "cell_type": "code",
   "execution_count": 98,
   "metadata": {},
   "outputs": [],
   "source": [
    "df = pd.read_csv('temp.tsv', sep = '\\t')\n",
    "ch8 = df[df['chromosome'] == '8']\n",
    "ch8 = ch8.drop(['#tax_id','LocusTag', 'Symbol_from_nomenclature_authority', 'Full_name_from_nomenclature_authority', 'Nomenclature_status', 'Other_designations', 'Modification_date', 'Feature_type'], axis = 1)\n",
    "ch8.to_csv('ch8.tsv', index = False, sep = '\\t')"
   ]
  },
  {
   "cell_type": "code",
   "execution_count": 99,
   "metadata": {},
   "outputs": [],
   "source": [
    "df = pd.read_csv('temp.tsv', sep = '\\t')\n",
    "ch9 = df[df['chromosome'] == '9']\n",
    "ch9 = ch9.drop(['#tax_id','LocusTag', 'Symbol_from_nomenclature_authority', 'Full_name_from_nomenclature_authority', 'Nomenclature_status', 'Other_designations', 'Modification_date', 'Feature_type'], axis = 1)\n",
    "ch9.to_csv('ch9.tsv', index = False, sep = '\\t')\n"
   ]
  },
  {
   "cell_type": "code",
   "execution_count": 100,
   "metadata": {},
   "outputs": [],
   "source": [
    "df = pd.read_csv('temp.tsv', sep = '\\t')\n",
    "ch10 = df[df['chromosome'] == '10']\n",
    "ch10 = ch10.drop(['#tax_id','LocusTag', 'Symbol_from_nomenclature_authority', 'Full_name_from_nomenclature_authority', 'Nomenclature_status', 'Other_designations', 'Modification_date', 'Feature_type'], axis = 1)\n",
    "ch10.to_csv('ch10.tsv', index = False, sep = '\\t')"
   ]
  },
  {
   "cell_type": "code",
   "execution_count": 101,
   "metadata": {},
   "outputs": [],
   "source": [
    "df = pd.read_csv('temp.tsv', sep = '\\t')\n",
    "ch11 = df[df['chromosome'] == '11']\n",
    "ch11 = ch11.drop(['#tax_id','LocusTag', 'Symbol_from_nomenclature_authority', 'Full_name_from_nomenclature_authority', 'Nomenclature_status', 'Other_designations', 'Modification_date', 'Feature_type'], axis = 1)\n",
    "ch11.to_csv('ch11.tsv', index = False, sep = '\\t')"
   ]
  },
  {
   "cell_type": "code",
   "execution_count": 102,
   "metadata": {},
   "outputs": [],
   "source": [
    "df = pd.read_csv('temp.tsv', sep = '\\t')\n",
    "ch12 = df[df['chromosome'] == '12']\n",
    "ch12 = ch12.drop(['#tax_id','LocusTag', 'Symbol_from_nomenclature_authority', 'Full_name_from_nomenclature_authority', 'Nomenclature_status', 'Other_designations', 'Modification_date', 'Feature_type'], axis = 1)\n",
    "ch12.to_csv('ch12.tsv', index = False, sep = '\\t')"
   ]
  },
  {
   "cell_type": "code",
   "execution_count": 103,
   "metadata": {},
   "outputs": [],
   "source": [
    "df = pd.read_csv('temp.tsv', sep = '\\t')\n",
    "ch13 = df[df['chromosome'] == '13']\n",
    "ch13 = ch13.drop(['#tax_id','LocusTag', 'Symbol_from_nomenclature_authority', 'Full_name_from_nomenclature_authority', 'Nomenclature_status', 'Other_designations', 'Modification_date', 'Feature_type'], axis = 1)\n",
    "ch13.to_csv('ch13.tsv', index = False, sep = '\\t')"
   ]
  },
  {
   "cell_type": "code",
   "execution_count": 104,
   "metadata": {},
   "outputs": [],
   "source": [
    "df = pd.read_csv('temp.tsv', sep = '\\t')\n",
    "ch14 = df[df['chromosome'] == '14']\n",
    "ch14 = ch14.drop(['#tax_id','LocusTag', 'Symbol_from_nomenclature_authority', 'Full_name_from_nomenclature_authority', 'Nomenclature_status', 'Other_designations', 'Modification_date', 'Feature_type'], axis = 1)\n",
    "ch14.to_csv('ch114.tsv', index = False, sep = '\\t')"
   ]
  },
  {
   "cell_type": "code",
   "execution_count": 105,
   "metadata": {},
   "outputs": [],
   "source": [
    "df = pd.read_csv('temp.tsv', sep = '\\t')\n",
    "ch15 = df[df['chromosome'] == '15']\n",
    "ch15 = ch15.drop(['#tax_id','LocusTag', 'Symbol_from_nomenclature_authority', 'Full_name_from_nomenclature_authority', 'Nomenclature_status', 'Other_designations', 'Modification_date', 'Feature_type'], axis = 1)\n",
    "ch15.to_csv('ch15.tsv', index = False, sep = '\\t')"
   ]
  },
  {
   "cell_type": "code",
   "execution_count": 106,
   "metadata": {},
   "outputs": [],
   "source": [
    "df = pd.read_csv('temp.tsv', sep = '\\t')\n",
    "ch16 = df[df['chromosome'] == '16']\n",
    "ch16 = ch16.drop(['#tax_id','LocusTag', 'Symbol_from_nomenclature_authority', 'Full_name_from_nomenclature_authority', 'Nomenclature_status', 'Other_designations', 'Modification_date', 'Feature_type'], axis = 1)\n",
    "ch16.to_csv('ch16.tsv', index = False, sep = '\\t')"
   ]
  },
  {
   "cell_type": "code",
   "execution_count": 107,
   "metadata": {},
   "outputs": [],
   "source": [
    "df = pd.read_csv('temp.tsv', sep = '\\t')\n",
    "ch17 = df[df['chromosome'] == '17']\n",
    "ch17 = ch17.drop(['#tax_id','LocusTag', 'Symbol_from_nomenclature_authority', 'Full_name_from_nomenclature_authority', 'Nomenclature_status', 'Other_designations', 'Modification_date', 'Feature_type'], axis = 1)\n",
    "ch17.to_csv('ch17.tsv', index = False, sep = '\\t')"
   ]
  },
  {
   "cell_type": "code",
   "execution_count": 108,
   "metadata": {},
   "outputs": [],
   "source": [
    "df = pd.read_csv('temp.tsv', sep = '\\t')\n",
    "ch18 = df[df['chromosome'] == '18']\n",
    "ch18 = ch18.drop(['#tax_id','LocusTag', 'Symbol_from_nomenclature_authority', 'Full_name_from_nomenclature_authority', 'Nomenclature_status', 'Other_designations', 'Modification_date', 'Feature_type'], axis = 1)\n",
    "ch18.to_csv('ch18.tsv', index = False, sep = '\\t')"
   ]
  },
  {
   "cell_type": "code",
   "execution_count": 109,
   "metadata": {},
   "outputs": [],
   "source": [
    "df = pd.read_csv('temp.tsv', sep = '\\t')\n",
    "ch19 = df[df['chromosome'] == '19']\n",
    "ch19 = ch19.drop(['#tax_id','LocusTag', 'Symbol_from_nomenclature_authority', 'Full_name_from_nomenclature_authority', 'Nomenclature_status', 'Other_designations', 'Modification_date', 'Feature_type'], axis = 1)\n",
    "ch19.to_csv('ch19.tsv', index = False, sep = '\\t')"
   ]
  },
  {
   "cell_type": "code",
   "execution_count": 110,
   "metadata": {},
   "outputs": [],
   "source": [
    "df = pd.read_csv('temp.tsv', sep = '\\t')\n",
    "ch20 = df[df['chromosome'] == '20']\n",
    "ch20 = ch20.drop(['#tax_id','LocusTag', 'Symbol_from_nomenclature_authority', 'Full_name_from_nomenclature_authority', 'Nomenclature_status', 'Other_designations', 'Modification_date', 'Feature_type'], axis = 1)\n",
    "ch20.to_csv('ch20.tsv', index = False, sep = '\\t')"
   ]
  },
  {
   "cell_type": "code",
   "execution_count": 111,
   "metadata": {},
   "outputs": [],
   "source": [
    "df = pd.read_csv('temp.tsv', sep = '\\t')\n",
    "ch21 = df[df['chromosome'] == '21']\n",
    "ch21 = ch21.drop(['#tax_id','LocusTag', 'Symbol_from_nomenclature_authority', 'Full_name_from_nomenclature_authority', 'Nomenclature_status', 'Other_designations', 'Modification_date', 'Feature_type'], axis = 1)\n",
    "ch21.to_csv('ch21.tsv', index = False, sep = '\\t')"
   ]
  },
  {
   "cell_type": "code",
   "execution_count": 112,
   "metadata": {},
   "outputs": [],
   "source": [
    "df = pd.read_csv('temp.tsv', sep = '\\t')\n",
    "ch22 = df[df['chromosome'] == '22']\n",
    "ch22 = ch22.drop(['#tax_id','LocusTag', 'Symbol_from_nomenclature_authority', 'Full_name_from_nomenclature_authority', 'Nomenclature_status', 'Other_designations', 'Modification_date', 'Feature_type'], axis = 1)\n",
    "ch22.to_csv('ch22.tsv', index = False, sep = '\\t')"
   ]
  },
  {
   "cell_type": "code",
   "execution_count": 113,
   "metadata": {},
   "outputs": [],
   "source": [
    "df = pd.read_csv('temp.tsv', sep = '\\t')\n",
    "chX = df[df['chromosome'] == 'X']\n",
    "chX = chX.drop(['#tax_id','LocusTag', 'Symbol_from_nomenclature_authority', 'Full_name_from_nomenclature_authority', 'Nomenclature_status', 'Other_designations', 'Modification_date', 'Feature_type'], axis = 1)\n",
    "chX.to_csv('chX.tsv', index = False, sep = '\\t')"
   ]
  },
  {
   "cell_type": "code",
   "execution_count": 114,
   "metadata": {},
   "outputs": [],
   "source": [
    "df = pd.read_csv('temp.tsv', sep = '\\t')\n",
    "chY = df[df['chromosome'] == 'Y']\n",
    "chY = chY.drop(['#tax_id','LocusTag', 'Symbol_from_nomenclature_authority', 'Full_name_from_nomenclature_authority', 'Nomenclature_status', 'Other_designations', 'Modification_date', 'Feature_type'], axis = 1)\n",
    "chY.to_csv('chY.tsv', index = False, sep = '\\t')"
   ]
  }
 ],
 "metadata": {
  "kernelspec": {
   "display_name": "Python 3.9.13 ('datamapping')",
   "language": "python",
   "name": "python3"
  },
  "language_info": {
   "codemirror_mode": {
    "name": "ipython",
    "version": 3
   },
   "file_extension": ".py",
   "mimetype": "text/x-python",
   "name": "python",
   "nbconvert_exporter": "python",
   "pygments_lexer": "ipython3",
   "version": "3.9.13"
  },
  "orig_nbformat": 4,
  "vscode": {
   "interpreter": {
    "hash": "a0fa60e9395fe0352fd246716b7303cd342b287ad658ee6026b5cbc6f97f26d2"
   }
  }
 },
 "nbformat": 4,
 "nbformat_minor": 2
}
